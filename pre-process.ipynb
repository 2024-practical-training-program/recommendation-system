{
 "cells": [
  {
   "cell_type": "code",
   "execution_count": 2,
   "metadata": {},
   "outputs": [
    {
     "name": "stdout",
     "output_type": "stream",
     "text": [
      "Processing data/white_paper.json\n",
      "Successfully processed data/white_paper.json\n",
      "Processing data/conference.json\n",
      "Successfully processed data/conference.json\n",
      "Processing data/weibo_data.json\n",
      "Successfully processed data/weibo_data.json\n",
      "Processing data/douban_topics.json\n",
      "Successfully processed data/douban_topics.json\n",
      "Processing data/news_results.json\n",
      "Successfully processed data/news_results.json\n",
      "Processing data/academic_papers.json\n",
      "Successfully processed data/academic_papers.json\n"
     ]
    }
   ],
   "source": [
    "import json\n",
    "import os\n",
    "from pathlib import Path\n",
    "\n",
    "def convert_ids_in_file(file_path):\n",
    "    try:\n",
    "        with open(file_path,'r',encoding='utf-8') as f:\n",
    "            data = json.load(f)\n",
    "        if not isinstance(data,list):\n",
    "            print(f\"Warning: {file_path} does not contain a list of items\")\n",
    "            return\n",
    "        \n",
    "        for i,item in enumerate(data,1):\n",
    "            if 'id' in item:\n",
    "                item['id'] = i\n",
    "        \n",
    "        with open(file_path,'w',encoding='utf-8') as f:\n",
    "            json.dump(data,f,ensure_ascii=False,indent=4)\n",
    "        \n",
    "        print(f\"Successfully processed {file_path}\")\n",
    "    except Ellipsis as e:\n",
    "        print(f\"Error loading JSON file: {e}\")\n",
    "\n",
    "\n",
    "data_dir = Path('data')\n",
    "for file in data_dir.glob('*.json'):\n",
    "    print(f\"Processing {file}\")\n",
    "    convert_ids_in_file(file)"
   ]
  },
  {
   "cell_type": "code",
   "execution_count": null,
   "metadata": {},
   "outputs": [],
   "source": []
  }
 ],
 "metadata": {
  "kernelspec": {
   "display_name": "tools",
   "language": "python",
   "name": "python3"
  },
  "language_info": {
   "codemirror_mode": {
    "name": "ipython",
    "version": 3
   },
   "file_extension": ".py",
   "mimetype": "text/x-python",
   "name": "python",
   "nbconvert_exporter": "python",
   "pygments_lexer": "ipython3",
   "version": "3.9.18"
  }
 },
 "nbformat": 4,
 "nbformat_minor": 2
}
